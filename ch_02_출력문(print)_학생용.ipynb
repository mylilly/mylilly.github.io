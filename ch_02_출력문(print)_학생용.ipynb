{
  "nbformat": 4,
  "nbformat_minor": 0,
  "metadata": {
    "language_info": {
      "name": "python",
      "version": "3.7.6",
      "mimetype": "text/x-python",
      "codemirror_mode": {
        "name": "ipython",
        "version": 3
      },
      "pygments_lexer": "ipython3",
      "nbconvert_exporter": "python",
      "file_extension": ".py"
    },
    "kernelspec": {
      "name": "python3",
      "display_name": "Python 3",
      "language": "python"
    },
    "colab": {
      "name": "ch#02_출력문(print)_학생용.ipynb",
      "provenance": [],
      "include_colab_link": true
    }
  },
  "cells": [
    {
      "cell_type": "markdown",
      "metadata": {
        "id": "view-in-github",
        "colab_type": "text"
      },
      "source": [
        "<a href=\"https://colab.research.google.com/github/mylilly/mylilly.github.io/blob/master/ch_02_%E1%84%8E%E1%85%AE%E1%86%AF%E1%84%85%E1%85%A7%E1%86%A8%E1%84%86%E1%85%AE%E1%86%AB(print)_%E1%84%92%E1%85%A1%E1%86%A8%E1%84%89%E1%85%A2%E1%86%BC%E1%84%8B%E1%85%AD%E1%86%BC.ipynb\" target=\"_parent\"><img src=\"https://colab.research.google.com/assets/colab-badge.svg\" alt=\"Open In Colab\"/></a>"
      ]
    },
    {
      "cell_type": "markdown",
      "metadata": {
        "id": "GJAvqH9gUvPf"
      },
      "source": [
        "* ## C의 print문\n",
        "```python\n",
        "#include <stdio.h>\n",
        "void main(void)  {\n",
        "    printf(\"Hello, World\");\n",
        "}\n",
        "```  \n",
        "\n",
        "* ##  JAVA의 print문\n",
        "\n",
        "~~~java\n",
        "public class HelloWorld {\n",
        "    public static void main(String[] args) {\n",
        "        System.out.println(\"Hello, World\");\n",
        "    }\n",
        "\n",
        "}\n",
        "~~~\n",
        "\n",
        "* ##  Python의 print 문  \n",
        "~~~python\n",
        "print('Hello, World')\n",
        "~~~\n",
        "\n",
        "<hr>  \n",
        "\n",
        "<font size=6 color=red><b> Life is too short, You need Python!! </b></font>"
      ]
    },
    {
      "cell_type": "code",
      "metadata": {
        "id": "iaKeELHsUvQI"
      },
      "source": [
        "help(print)"
      ],
      "execution_count": null,
      "outputs": []
    },
    {
      "cell_type": "markdown",
      "metadata": {
        "id": "uugcsECyUvQL"
      },
      "source": [
        "# print() 사용법\n",
        "\n",
        "* print(출력할 내용)  : 내용을 출력 후 개행(줄바꿈)한다\n",
        "* 값(value)출력  \n",
        "~~~python\n",
        "print(1)  \n",
        "print(\"hafs\")  \n",
        "print(1+3)  \n",
        "print(1,2,3)  \n",
        "print(\"a\",\"b\")  \n",
        "~~~\n",
        "\n",
        "\n",
        "* 변수(variable)출력  \n",
        "~~~python\n",
        "print(name)  \n",
        "~~~\n"
      ]
    },
    {
      "cell_type": "code",
      "metadata": {
        "trusted": true,
        "id": "IrJH8pS_UvQl",
        "outputId": "45649d95-7913-4dea-c2fe-5a05314313f4"
      },
      "source": [
        "#여러 값(value)의 print(출력)\n",
        "\n",
        "print('python')"
      ],
      "execution_count": null,
      "outputs": [
        {
          "output_type": "stream",
          "text": [
            "python\n"
          ],
          "name": "stdout"
        }
      ]
    },
    {
      "cell_type": "code",
      "metadata": {
        "id": "f6IOxo6tUvQr"
      },
      "source": [
        "# 변수 출력\n",
        "\n"
      ],
      "execution_count": null,
      "outputs": []
    },
    {
      "cell_type": "code",
      "metadata": {
        "id": "32YiRR0ZUvQ9"
      },
      "source": [
        "# 출력할 변수가 여러개 일때\n",
        "\n"
      ],
      "execution_count": null,
      "outputs": []
    },
    {
      "cell_type": "markdown",
      "metadata": {
        "id": "zyYz5Hw7UvQ-"
      },
      "source": [
        "## <font color=blue>f-string 방식 </font>\n",
        "\n",
        "- python 3.6 이상부터 사용가능.  \n",
        "- 간편하고 강력함. "
      ]
    },
    {
      "cell_type": "code",
      "metadata": {
        "id": "HNdbJ8lFUvRC"
      },
      "source": [
        "# f-string 예제 #1\n",
        "\n"
      ],
      "execution_count": null,
      "outputs": []
    },
    {
      "cell_type": "code",
      "metadata": {
        "id": "li6yKBXfUvRD"
      },
      "source": [
        "# f-string 예제 #2\n",
        "\n"
      ],
      "execution_count": null,
      "outputs": []
    },
    {
      "cell_type": "markdown",
      "metadata": {
        "id": "_4SjSdGyOv-H"
      },
      "source": [
        "# Quiz 🎯"
      ]
    },
    {
      "cell_type": "markdown",
      "metadata": {
        "id": "HA72PrOGUvRM"
      },
      "source": [
        "### 1. 다음 print()의 실행 결과를 예상하고 오류일시 이유를 설명하시오.\n",
        "\n",
        "~~~python\n",
        "print(1,3)\n",
        "print(1 3)\n",
        "print('a', 1+3)\n",
        "print(a)\n",
        "print('hafs','python',end='')\n",
        "print('hafs','python',sep='\\')\n",
        "print('hafs','python',sep='/')\n",
        "print('\\\\\\\\')\n",
        "~~~\n"
      ]
    }
  ]
}